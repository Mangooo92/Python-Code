{
 "cells": [
  {
   "cell_type": "code",
   "execution_count": 26,
   "metadata": {},
   "outputs": [],
   "source": [
    "import pandas as pd\n",
    "import numpy as np\n",
    "from datetime import datetime\n",
    "import matplotlib.pyplot as plt\n",
    "from statsmodels.graphics.tsaplots import plot_acf, plot_pacf\n",
    "from statsmodels.tsa.api import VAR\n",
    "from scipy.stats import pearsonr"
   ]
  },
  {
   "cell_type": "markdown",
   "metadata": {},
   "source": [
    "# Data cleaning and preprocessing"
   ]
  },
  {
   "cell_type": "markdown",
   "metadata": {},
   "source": [
    "Data must be cleaned and preprocessed. \n",
    "<br>\n",
    "Further advise is needed how to do it!"
   ]
  },
  {
   "cell_type": "code",
   "execution_count": 24,
   "metadata": {},
   "outputs": [
    {
     "name": "stdout",
     "output_type": "stream",
     "text": [
      "            EMB_US_Equity_log  Dax_Index  VIX_Index  USGG10YR_Index  \\\n",
      "Date                                                                  \n",
      "2008-02-29          -0.008737    6748.13      26.54          3.5092   \n",
      "2008-03-31          -0.003259    6534.97      25.61          3.4096   \n",
      "2008-04-30           0.006999    6948.82      20.79          3.7279   \n",
      "2008-05-30          -0.003345    7096.79      17.83          4.0595   \n",
      "2008-06-30          -0.024545    6418.32      23.95          3.9690   \n",
      "\n",
      "            EURUSD_BGN_Curncy  LF98OAS_Index  USYC2Y10_Index  SX5E_Index  \\\n",
      "Date                                                                       \n",
      "2008-02-29             1.5179           7.45         189.578     3724.50   \n",
      "2008-03-31             1.5788           7.81         182.115     3628.06   \n",
      "2008-04-30             1.5622           6.53         146.961     3825.02   \n",
      "2008-05-30             1.5554           6.22         145.713     3777.85   \n",
      "2008-06-30             1.5755           7.08         135.257     3352.81   \n",
      "\n",
      "            SPX_Index  XAU BGN Curncy  USGGBE10 Index  DXY Curncy  \n",
      "Date                                                               \n",
      "2008-02-29    1330.63          973.90          2.4398      73.714  \n",
      "2008-03-31    1322.70          916.90          2.3246      71.802  \n",
      "2008-04-30    1385.59          877.55          2.2798      72.509  \n",
      "2008-05-30    1400.38          886.50          2.5250      72.879  \n",
      "2008-06-30    1280.00          925.40          2.5430      72.463  \n",
      "            EMB_US_Equity_log  Dax_Index  VIX_Index  USGG10YR_Index  \\\n",
      "Date                                                                  \n",
      "2021-09-30          -0.029808   15260.69      23.14          1.4873   \n",
      "2021-10-29          -0.001546   15688.77      16.26          1.5521   \n",
      "2021-11-30          -0.022268   15100.13      27.19          1.4443   \n",
      "2021-12-31           0.014686   15884.86      17.22          1.5101   \n",
      "2022-01-31          -0.034325   15471.20      24.83          1.7767   \n",
      "\n",
      "            EURUSD_BGN_Curncy  LF98OAS_Index  USYC2Y10_Index  SX5E_Index  \\\n",
      "Date                                                                       \n",
      "2021-09-30             1.1580           2.89         120.787     4048.08   \n",
      "2021-10-29             1.1558           2.87         105.118     4250.56   \n",
      "2021-11-30             1.1338           3.37          87.338     4063.06   \n",
      "2021-12-31             1.1370           2.83          77.396     4298.41   \n",
      "2022-01-31             1.1235           3.42          59.603     4174.60   \n",
      "\n",
      "            SPX_Index  XAU BGN Curncy  USGGBE10 Index  DXY Curncy  \n",
      "Date                                                               \n",
      "2021-09-30    4307.54         1756.95          2.3762      94.230  \n",
      "2021-10-29    4605.38         1783.38          2.5870      94.123  \n",
      "2021-11-30    4567.00         1774.52          2.5131      95.994  \n",
      "2021-12-31    4766.18         1829.20          2.5947      95.670  \n",
      "2022-01-31    4515.55         1797.17          2.4864      96.540  \n",
      "(168, 12)\n"
     ]
    }
   ],
   "source": [
    "df = pd.read_excel(\"Data.xlsx\", sheet_name=\"Monthly_Python_Input\", index_col=0)\n",
    "#df = df.drop(columns=[\"EMB_US_Equity\"])\n",
    "df[\"EMB_US_Equity_log\"] = np.log(df.EMB_US_Equity) - np.log(df.EMB_US_Equity.shift(1))\n",
    "df = df.drop(columns=[\"EMB_US_Equity\"]).dropna()\n",
    "cols = df.columns.tolist()\n",
    "cols = cols[-1:] + cols[:-1]\n",
    "df = df[cols]\n",
    "print(df.head())\n",
    "print(df.tail())\n",
    "print(df.shape) # (168, 12)"
   ]
  }
 ],
 "metadata": {
  "interpreter": {
   "hash": "eaf01968599801153226e7d578e716c87e76a3050114a285647e67ae1a1f8e6c"
  },
  "kernelspec": {
   "display_name": "Python 3.9.7 ('base')",
   "language": "python",
   "name": "python3"
  },
  "language_info": {
   "codemirror_mode": {
    "name": "ipython",
    "version": 3
   },
   "file_extension": ".py",
   "mimetype": "text/x-python",
   "name": "python",
   "nbconvert_exporter": "python",
   "pygments_lexer": "ipython3",
   "version": "3.9.7"
  },
  "orig_nbformat": 4
 },
 "nbformat": 4,
 "nbformat_minor": 2
}
